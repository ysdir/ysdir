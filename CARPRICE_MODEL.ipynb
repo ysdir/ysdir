{
 "cells": [
  {
   "cell_type": "code",
   "execution_count": 52,
   "id": "f779b9ba",
   "metadata": {},
   "outputs": [],
   "source": [
    "import pickle\n",
    "import pandas as pd\n",
    "from sklearn.preprocessing import LabelEncoder\n",
    "from sklearn.preprocessing import MinMaxScaler\n",
    "from sklearn.ensemble import GradientBoostingRegressor\n",
    "from sklearn.model_selection import cross_val_predict\n",
    "\n",
    "def predict_price(input_data: pd.DataFrame):\n",
    "    # Perform label encoding\n",
    "    le = LabelEncoder()\n",
    "    input_data['model'] = le.fit_transform(input_data['model'])\n",
    "    input_data['transmission'] = le.fit_transform(input_data['transmission'])\n",
    "    input_data['fuelType'] = le.fit_transform(input_data['fuelType'])\n",
    "    \n",
    "    # Perform MinMax scaling\n",
    "    scaler = MinMaxScaler()\n",
    "    input_data[['year', 'milage']] = scaler.fit_transform(input_data[['year', 'milage']])\n",
    "    \n",
    "    # Predict prices using the trained GradientBoostingRegressor model\n",
    "    y_pred = cross_val_predict(GradientBoostingRegressor(random_state=21, n_estimators=10000), \n",
    "                               input_data[['model', 'year', 'milage', 'transmission', 'fuelType']], \n",
    "                               input_data['price'], cv=5)\n",
    "    \n",
    "    # Create a DataFrame with the predicted prices\n",
    "    prediction_results = pd.DataFrame({'Car_id': input_data.index,\n",
    "                                       'predicted_price': y_pred,\n",
    "                                       'actual_price': input_data.price\n",
    "                                       })\n",
    "    \n",
    "   \n",
    "    return prediction_results\n",
    "\n"
   ]
  },
  {
   "cell_type": "code",
   "execution_count": 62,
   "id": "766c59d6",
   "metadata": {},
   "outputs": [],
   "source": [
    "with open('car_price.pkl', 'wb') as f:\n",
    "    model = GradientBoostingRegressor(random_state=21, n_estimators=10000)\n",
    "    pickle.dump(model, f)"
   ]
  },
  {
   "cell_type": "code",
   "execution_count": null,
   "id": "f370dc63",
   "metadata": {},
   "outputs": [],
   "source": [
    "with open('car_price.pkl', 'rb') as f:\n",
    "    model = pickle.load(f)\n",
    "    y_pred = model.predict(input_data[['model', 'year', 'milage', 'transmission', 'fuelType']])\n"
   ]
  }
 ],
 "metadata": {
  "kernelspec": {
   "display_name": "Python 3 (ipykernel)",
   "language": "python",
   "name": "python3"
  },
  "language_info": {
   "codemirror_mode": {
    "name": "ipython",
    "version": 3
   },
   "file_extension": ".py",
   "mimetype": "text/x-python",
   "name": "python",
   "nbconvert_exporter": "python",
   "pygments_lexer": "ipython3",
   "version": "3.9.13"
  }
 },
 "nbformat": 4,
 "nbformat_minor": 5
}
